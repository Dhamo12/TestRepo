{
  "nbformat": 4,
  "nbformat_minor": 0,
  "metadata": {
    "colab": {
      "provenance": [],
      "authorship_tag": "ABX9TyORSRI7/lGwHjr+5TS2aOQb",
      "include_colab_link": true
    },
    "kernelspec": {
      "name": "python3",
      "display_name": "Python 3"
    },
    "language_info": {
      "name": "python"
    }
  },
  "cells": [
    {
      "cell_type": "markdown",
      "metadata": {
        "id": "view-in-github",
        "colab_type": "text"
      },
      "source": [
        "<a href=\"https://colab.research.google.com/github/Dhamo12/TestRepo/blob/master/pythongame.ipynb\" target=\"_parent\"><img src=\"https://colab.research.google.com/assets/colab-badge.svg\" alt=\"Open In Colab\"/></a>"
      ]
    },
    {
      "cell_type": "code",
      "execution_count": 1,
      "metadata": {
        "colab": {
          "base_uri": "https://localhost:8080/"
        },
        "id": "tQ5_pPXqXTdk",
        "outputId": "175725cc-8621-4d2d-e9a4-7c157c1b5141"
      },
      "outputs": [
        {
          "output_type": "stream",
          "name": "stdout",
          "text": [
            "Hello Dhamo!\n"
          ]
        }
      ],
      "source": [
        "print(\"Hello Dhamo!\")"
      ]
    },
    {
      "cell_type": "code",
      "source": [
        "name=\"Dhamo\"\n",
        "age = 23 # whole number\n",
        "height = 5.8  #float decimal number\n",
        "is_gamer = True\n",
        "\n",
        "print(\"Name :\",name)\n",
        "print(\"Age :\",age)\n",
        "print(\"Height :\",height)\n",
        "print(\"Is Gamer ?\",is_gamer)\n"
      ],
      "metadata": {
        "colab": {
          "base_uri": "https://localhost:8080/"
        },
        "id": "cDTlGexwXpBp",
        "outputId": "0c0215f6-bcf0-4c92-c717-ea00a9e03070"
      },
      "execution_count": 3,
      "outputs": [
        {
          "output_type": "stream",
          "name": "stdout",
          "text": [
            "Name : Dhamo\n",
            "Age : 23\n",
            "Height : 5.8\n",
            "Is Gamer ? True\n"
          ]
        }
      ]
    },
    {
      "cell_type": "code",
      "source": [
        "user_name = input(\"Whats your name?\")\n",
        "print(\"Welcome, \" + user_name + \"!\")"
      ],
      "metadata": {
        "colab": {
          "base_uri": "https://localhost:8080/"
        },
        "id": "3zGH68aOY2jP",
        "outputId": "5337edd1-2083-4464-9a98-0f68861ceae1"
      },
      "execution_count": 5,
      "outputs": [
        {
          "output_type": "stream",
          "name": "stdout",
          "text": [
            "Whats your name?Dhamo\n",
            "Welcome, Dhamo!\n"
          ]
        }
      ]
    },
    {
      "cell_type": "code",
      "source": [
        "x = 3\n",
        "y = 10\n",
        "\n",
        "print(x+y)\n",
        "print(x-y)\n",
        "print(y-x)\n",
        "print(x*y)\n",
        "print(x/y)\n",
        "print(y // x)\n",
        "print(y%x)\n",
        "print(y**x)"
      ],
      "metadata": {
        "colab": {
          "base_uri": "https://localhost:8080/"
        },
        "id": "BIL2daAPZXhz",
        "outputId": "dccb49de-8d10-4967-83aa-ea07215aa898"
      },
      "execution_count": 7,
      "outputs": [
        {
          "output_type": "stream",
          "name": "stdout",
          "text": [
            "13\n",
            "-7\n",
            "7\n",
            "30\n",
            "0.3\n",
            "3\n",
            "1\n",
            "1000\n"
          ]
        }
      ]
    },
    {
      "cell_type": "code",
      "source": [
        "age = int(input(\"Enter your age: \"))\n",
        "\n",
        "if age >= 18:\n",
        "  print(\"You are an adult\")\n",
        "elif age >= 13:\n",
        "  print(\"You are teen\")\n",
        "else:\n",
        "  print(\"You are a minor\")\n"
      ],
      "metadata": {
        "colab": {
          "base_uri": "https://localhost:8080/"
        },
        "id": "cwbRWAD5YpNX",
        "outputId": "aa0c7a43-30b1-4a42-fc4b-e85a576cbdeb"
      },
      "execution_count": 8,
      "outputs": [
        {
          "output_type": "stream",
          "name": "stdout",
          "text": [
            "Enter your age: 10\n",
            "You are a minor\n"
          ]
        }
      ]
    },
    {
      "cell_type": "code",
      "source": [
        "count = 0\n",
        "while count < 10:\n",
        "  print(\"count is:\", count)\n",
        "  count += 1\n"
      ],
      "metadata": {
        "colab": {
          "base_uri": "https://localhost:8080/"
        },
        "id": "oepRLFyefSI2",
        "outputId": "b1f27e5b-d467-4049-db3b-f22c85e332bc"
      },
      "execution_count": 10,
      "outputs": [
        {
          "output_type": "stream",
          "name": "stdout",
          "text": [
            "count is: 0\n",
            "count is: 1\n",
            "count is: 2\n",
            "count is: 3\n",
            "count is: 4\n",
            "count is: 5\n",
            "count is: 6\n",
            "count is: 7\n",
            "count is: 8\n",
            "count is: 9\n"
          ]
        }
      ]
    },
    {
      "cell_type": "code",
      "source": [
        "video_games = [\"Game 1\", \"Game 2\", \"Game 3\"]\n",
        "for video_game in video_games:\n",
        "  print(video_game)\n",
        "\n",
        "print(video_games[0])\n",
        "video_games.append(\"Game 4\")\n",
        "print(video_games)\n",
        "\n",
        "video_games[1] = \"Game 1 replaced\"\n",
        "\n",
        "print(video_games)"
      ],
      "metadata": {
        "colab": {
          "base_uri": "https://localhost:8080/"
        },
        "id": "aHYgqDeLgIen",
        "outputId": "5915e1c5-e812-4f45-9191-134f96e63f74"
      },
      "execution_count": 18,
      "outputs": [
        {
          "output_type": "stream",
          "name": "stdout",
          "text": [
            "Game 1\n",
            "Game 2\n",
            "Game 3\n",
            "Game 1\n",
            "['Game 1', 'Game 2', 'Game 3', 'Game 4']\n",
            "['Game 1', 'Game 1 replaced', 'Game 3', 'Game 4']\n"
          ]
        }
      ]
    },
    {
      "cell_type": "code",
      "source": [
        "def say_hello():\n",
        "  print(\"hello from your very first funtion\")"
      ],
      "metadata": {
        "id": "QKuBICiahewv"
      },
      "execution_count": null,
      "outputs": []
    },
    {
      "cell_type": "code",
      "source": [
        "import random\n",
        "\n",
        "secret_number = random.randint(1,10)\n",
        "attempts = 3\n",
        "print(\"I am thinking of a number between 1 and 10\")\n",
        "\n",
        "while attempts > 0:\n",
        "  guess = int(input(\"Take a Guess: \"))\n",
        "  if guess == secret_number:\n",
        "    print(\"Congratulations! You guessed the number!\")\n",
        "    break\n",
        "  elif guess < secret_number:\n",
        "    print(\"Too low! Try again.\")\n",
        "  else:\n",
        "    print(\"Too high! try again\")\n",
        "  attempts -= 1\n",
        "\n",
        "if attempts == 0:\n",
        "  print(\"Sorry, you've run out of attempts. The secret number was:\", secret_number)"
      ],
      "metadata": {
        "colab": {
          "base_uri": "https://localhost:8080/"
        },
        "id": "ssBmGI-Eik5E",
        "outputId": "17987c55-ade5-4476-b620-8436f26a7fca"
      },
      "execution_count": 21,
      "outputs": [
        {
          "output_type": "stream",
          "name": "stdout",
          "text": [
            "I am thinking of a number between 1 and 10\n",
            "Take a Guess: 9\n",
            "Too high! try again\n",
            "Take a Guess: 8\n",
            "Too high! try again\n",
            "Take a Guess: 7\n",
            "Too high! try again\n",
            "Sorry, you've run out of attempts. The secret number was: 2\n"
          ]
        }
      ]
    }
  ]
}